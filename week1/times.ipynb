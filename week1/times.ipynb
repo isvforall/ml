{
 "cells": [
  {
   "cell_type": "code",
   "execution_count": 3,
   "metadata": {
    "collapsed": true
   },
   "outputs": [],
   "source": [
    "import numpy as np\n",
    "\n",
    "import task1\n",
    "import task2\n",
    "import task3\n",
    "import task4\n",
    "import task5\n",
    "import task6"
   ]
  },
  {
   "cell_type": "code",
   "execution_count": 38,
   "metadata": {
    "collapsed": false
   },
   "outputs": [
    {
     "name": "stdout",
     "output_type": "stream",
     "text": [
      "The slowest run took 5.99 times longer than the fastest. This could mean that an intermediate result is being cached.\n",
      "1000000 loops, best of 3: 1.87 µs per loop\n"
     ]
    }
   ],
   "source": [
    "x = np.array([[1, 0, 1], [2, 0, 2], [3, 0, 3], [4, 4, 4]])\n",
    "t = %timeit -o task1.prod_nonzero_ondiagonal(x)\n"
   ]
  },
  {
   "cell_type": "code",
   "execution_count": 39,
   "metadata": {
    "collapsed": false
   },
   "outputs": [
    {
     "name": "stdout",
     "output_type": "stream",
     "text": [
      "The slowest run took 10.14 times longer than the fastest. This could mean that an intermediate result is being cached.\n",
      "100000 loops, best of 3: 3.61 µs per loop\n"
     ]
    }
   ],
   "source": [
    "x = np.array([[1, 0, 1], [2, 0, 2], [3, 0, 3], [4, 4, 4]])\n",
    "t_np = %timeit -o task1.prod_nonzero_ondiagonal_np(x)"
   ]
  },
  {
   "cell_type": "code",
   "execution_count": 40,
   "metadata": {
    "collapsed": false
   },
   "outputs": [
    {
     "name": "stdout",
     "output_type": "stream",
     "text": [
      "The slowest run took 6.18 times longer than the fastest. This could mean that an intermediate result is being cached.\n",
      "1000000 loops, best of 3: 1.89 µs per loop\n"
     ]
    },
    {
     "data": {
      "text/plain": [
       "<TimeitResult : 1000000 loops, best of 3: 1.89 µs per loop>"
      ]
     },
     "execution_count": 40,
     "metadata": {},
     "output_type": "execute_result"
    }
   ],
   "source": [
    "x = np.array([[1, 0, 1], [2, 0, 2], [3, 0, 3], [4, 4, 4]])\n",
    "%timeit -o task1.prod_nonzero_ondiagonal(x)"
   ]
  },
  {
   "cell_type": "code",
   "execution_count": 41,
   "metadata": {
    "collapsed": false
   },
   "outputs": [
    {
     "name": "stdout",
     "output_type": "stream",
     "text": [
      "The slowest run took 9.68 times longer than the fastest. This could mean that an intermediate result is being cached.\n",
      "100000 loops, best of 3: 3.62 µs per loop\n"
     ]
    },
    {
     "data": {
      "text/plain": [
       "<TimeitResult : 100000 loops, best of 3: 3.62 µs per loop>"
      ]
     },
     "execution_count": 41,
     "metadata": {},
     "output_type": "execute_result"
    }
   ],
   "source": [
    "x = np.array([[1, 0, 1], [2, 0, 2], [3, 0, 3], [4, 4, 4]])\n",
    "%timeit -o task1.prod_nonzero_ondiagonal_np(x)"
   ]
  },
  {
   "cell_type": "code",
   "execution_count": 42,
   "metadata": {
    "collapsed": false
   },
   "outputs": [
    {
     "name": "stdout",
     "output_type": "stream",
     "text": [
      "100000 loops, best of 3: 3.03 µs per loop\n"
     ]
    },
    {
     "data": {
      "text/plain": [
       "<TimeitResult : 100000 loops, best of 3: 3.03 µs per loop>"
      ]
     },
     "execution_count": 42,
     "metadata": {},
     "output_type": "execute_result"
    }
   ],
   "source": [
    "x = np.eye(5)\n",
    "%timeit -o task1.prod_nonzero_ondiagonal(x)"
   ]
  },
  {
   "cell_type": "code",
   "execution_count": 43,
   "metadata": {
    "collapsed": false
   },
   "outputs": [
    {
     "name": "stdout",
     "output_type": "stream",
     "text": [
      "The slowest run took 10.06 times longer than the fastest. This could mean that an intermediate result is being cached.\n",
      "100000 loops, best of 3: 4 µs per loop\n"
     ]
    },
    {
     "data": {
      "text/plain": [
       "<TimeitResult : 100000 loops, best of 3: 4 µs per loop>"
      ]
     },
     "execution_count": 43,
     "metadata": {},
     "output_type": "execute_result"
    }
   ],
   "source": [
    "x = np.eye(5)\n",
    "%timeit -o task1.prod_nonzero_ondiagonal_np(x)"
   ]
  },
  {
   "cell_type": "code",
   "execution_count": 44,
   "metadata": {
    "collapsed": false
   },
   "outputs": [
    {
     "name": "stdout",
     "output_type": "stream",
     "text": [
      "The slowest run took 6.89 times longer than the fastest. This could mean that an intermediate result is being cached.\n",
      "1000000 loops, best of 3: 1.45 µs per loop\n"
     ]
    },
    {
     "data": {
      "text/plain": [
       "<TimeitResult : 1000000 loops, best of 3: 1.45 µs per loop>"
      ]
     },
     "execution_count": 44,
     "metadata": {},
     "output_type": "execute_result"
    }
   ],
   "source": [
    "x = np.array([[5, 6], [6, 5]])\n",
    "%timeit -o task1.prod_nonzero_ondiagonal(x)"
   ]
  },
  {
   "cell_type": "code",
   "execution_count": 45,
   "metadata": {
    "collapsed": false
   },
   "outputs": [
    {
     "name": "stdout",
     "output_type": "stream",
     "text": [
      "The slowest run took 9.88 times longer than the fastest. This could mean that an intermediate result is being cached.\n",
      "100000 loops, best of 3: 3.63 µs per loop\n"
     ]
    },
    {
     "data": {
      "text/plain": [
       "<TimeitResult : 100000 loops, best of 3: 3.63 µs per loop>"
      ]
     },
     "execution_count": 45,
     "metadata": {},
     "output_type": "execute_result"
    }
   ],
   "source": [
    "x = np.array([[5, 6], [6, 5]])\n",
    "%timeit -o task1.prod_nonzero_ondiagonal_np(x)"
   ]
  },
  {
   "cell_type": "code",
   "execution_count": 46,
   "metadata": {
    "collapsed": false
   },
   "outputs": [
    {
     "name": "stdout",
     "output_type": "stream",
     "text": [
      "The slowest run took 10.82 times longer than the fastest. This could mean that an intermediate result is being cached.\n",
      "100000 loops, best of 3: 2.49 µs per loop\n"
     ]
    },
    {
     "data": {
      "text/plain": [
       "<TimeitResult : 100000 loops, best of 3: 2.49 µs per loop>"
      ]
     },
     "execution_count": 46,
     "metadata": {},
     "output_type": "execute_result"
    }
   ],
   "source": [
    "X = np.array(range(4 * 5)).reshape(4, 5) + 1\n",
    "i_idx = np.array([1, 3, 0, 2])\n",
    "j_idx = np.array([0, 2, 3, 1])\n",
    "%timeit -o task2.build_vec(X, i_idx, j_idx)"
   ]
  },
  {
   "cell_type": "code",
   "execution_count": 47,
   "metadata": {
    "collapsed": false
   },
   "outputs": [
    {
     "name": "stdout",
     "output_type": "stream",
     "text": [
      "The slowest run took 21.85 times longer than the fastest. This could mean that an intermediate result is being cached.\n",
      "1000000 loops, best of 3: 1.09 µs per loop\n"
     ]
    },
    {
     "data": {
      "text/plain": [
       "<TimeitResult : 1000000 loops, best of 3: 1.09 µs per loop>"
      ]
     },
     "execution_count": 47,
     "metadata": {},
     "output_type": "execute_result"
    }
   ],
   "source": [
    "X = np.array(range(4 * 5)).reshape(4, 5) + 1\n",
    "i_idx = np.array([1, 3, 0, 2])\n",
    "j_idx = np.array([0, 2, 3, 1])\n",
    "%timeit -o task2.build_vec_np(X, i_idx, j_idx)"
   ]
  },
  {
   "cell_type": "code",
   "execution_count": 48,
   "metadata": {
    "collapsed": false
   },
   "outputs": [
    {
     "name": "stdout",
     "output_type": "stream",
     "text": [
      "10000 loops, best of 3: 48.1 µs per loop\n"
     ]
    },
    {
     "data": {
      "text/plain": [
       "<TimeitResult : 10000 loops, best of 3: 48.1 µs per loop>"
      ]
     },
     "execution_count": 48,
     "metadata": {},
     "output_type": "execute_result"
    }
   ],
   "source": [
    "n = 100\n",
    "X = np.eye(n)\n",
    "i_idx = np.array(range(n))\n",
    "j_idx = np.array(range(n))\n",
    "answer = np.ones(n, dtype='int')\n",
    "%timeit -o task2.build_vec(X, i_idx, j_idx)"
   ]
  },
  {
   "cell_type": "code",
   "execution_count": 49,
   "metadata": {
    "collapsed": false
   },
   "outputs": [
    {
     "name": "stdout",
     "output_type": "stream",
     "text": [
      "The slowest run took 16.28 times longer than the fastest. This could mean that an intermediate result is being cached.\n",
      "1000000 loops, best of 3: 1.54 µs per loop\n"
     ]
    },
    {
     "data": {
      "text/plain": [
       "<TimeitResult : 1000000 loops, best of 3: 1.54 µs per loop>"
      ]
     },
     "execution_count": 49,
     "metadata": {},
     "output_type": "execute_result"
    }
   ],
   "source": [
    "n = 100\n",
    "X = np.eye(n)\n",
    "i_idx = np.array(range(n))\n",
    "j_idx = np.array(range(n))\n",
    "%timeit -o task2.build_vec_np(X, i_idx, j_idx)"
   ]
  },
  {
   "cell_type": "code",
   "execution_count": 50,
   "metadata": {
    "collapsed": false
   },
   "outputs": [
    {
     "name": "stdout",
     "output_type": "stream",
     "text": [
      "The slowest run took 12.36 times longer than the fastest. This could mean that an intermediate result is being cached.\n",
      "1000000 loops, best of 3: 1.89 µs per loop\n"
     ]
    },
    {
     "data": {
      "text/plain": [
       "<TimeitResult : 1000000 loops, best of 3: 1.89 µs per loop>"
      ]
     },
     "execution_count": 50,
     "metadata": {},
     "output_type": "execute_result"
    }
   ],
   "source": [
    "x = np.array([1, 2, 2, 4])\n",
    "y = np.array([4, 2, 1, 2])\n",
    "%timeit -o task3.is_multiset(x, y)"
   ]
  },
  {
   "cell_type": "code",
   "execution_count": 51,
   "metadata": {
    "collapsed": false
   },
   "outputs": [
    {
     "name": "stdout",
     "output_type": "stream",
     "text": [
      "The slowest run took 10.84 times longer than the fastest. This could mean that an intermediate result is being cached.\n",
      "100000 loops, best of 3: 3.57 µs per loop\n"
     ]
    },
    {
     "data": {
      "text/plain": [
       "<TimeitResult : 100000 loops, best of 3: 3.57 µs per loop>"
      ]
     },
     "execution_count": 51,
     "metadata": {},
     "output_type": "execute_result"
    }
   ],
   "source": [
    "x = np.array([1, 2, 2, 4])\n",
    "y = np.array([4, 2, 1, 2])\n",
    "%timeit -o task3.is_multiset_np(x, y)"
   ]
  },
  {
   "cell_type": "code",
   "execution_count": 52,
   "metadata": {
    "collapsed": false
   },
   "outputs": [
    {
     "name": "stdout",
     "output_type": "stream",
     "text": [
      "The slowest run took 20.04 times longer than the fastest. This could mean that an intermediate result is being cached.\n",
      "1000000 loops, best of 3: 1.87 µs per loop\n"
     ]
    },
    {
     "data": {
      "text/plain": [
       "<TimeitResult : 1000000 loops, best of 3: 1.87 µs per loop>"
      ]
     },
     "execution_count": 52,
     "metadata": {},
     "output_type": "execute_result"
    }
   ],
   "source": [
    "x = np.array([1, 1, 2])\n",
    "y = np.array([1, 2, 2])\n",
    "%timeit -o task3.is_multiset(x, y)"
   ]
  },
  {
   "cell_type": "code",
   "execution_count": 53,
   "metadata": {
    "collapsed": false
   },
   "outputs": [
    {
     "name": "stdout",
     "output_type": "stream",
     "text": [
      "The slowest run took 10.95 times longer than the fastest. This could mean that an intermediate result is being cached.\n",
      "100000 loops, best of 3: 3.57 µs per loop\n"
     ]
    },
    {
     "data": {
      "text/plain": [
       "<TimeitResult : 100000 loops, best of 3: 3.57 µs per loop>"
      ]
     },
     "execution_count": 53,
     "metadata": {},
     "output_type": "execute_result"
    }
   ],
   "source": [
    "x = np.array([1, 1, 2])\n",
    "y = np.array([1, 2, 2])\n",
    "%timeit -o task3.is_multiset_np(x, y)"
   ]
  },
  {
   "cell_type": "code",
   "execution_count": 54,
   "metadata": {
    "collapsed": false
   },
   "outputs": [
    {
     "name": "stdout",
     "output_type": "stream",
     "text": [
      "The slowest run took 4.56 times longer than the fastest. This could mean that an intermediate result is being cached.\n",
      "100000 loops, best of 3: 2.13 µs per loop\n"
     ]
    },
    {
     "data": {
      "text/plain": [
       "<TimeitResult : 100000 loops, best of 3: 2.13 µs per loop>"
      ]
     },
     "execution_count": 54,
     "metadata": {},
     "output_type": "execute_result"
    }
   ],
   "source": [
    "x = np.array([6, 2, 0, 3, 0, 0, 5, 7, 0])\n",
    "%timeit -o task4.max_before_zero(x)\n"
   ]
  },
  {
   "cell_type": "code",
   "execution_count": 55,
   "metadata": {
    "collapsed": false
   },
   "outputs": [
    {
     "name": "stdout",
     "output_type": "stream",
     "text": [
      "The slowest run took 9.97 times longer than the fastest. This could mean that an intermediate result is being cached.\n",
      "100000 loops, best of 3: 3.98 µs per loop\n"
     ]
    },
    {
     "data": {
      "text/plain": [
       "<TimeitResult : 100000 loops, best of 3: 3.98 µs per loop>"
      ]
     },
     "execution_count": 55,
     "metadata": {},
     "output_type": "execute_result"
    }
   ],
   "source": [
    "x = np.array([6, 2, 0, 3, 0, 0, 5, 7, 0])\n",
    "%timeit -o task4.max_before_zero_np(x)"
   ]
  },
  {
   "cell_type": "code",
   "execution_count": 68,
   "metadata": {
    "collapsed": false
   },
   "outputs": [
    {
     "name": "stdout",
     "output_type": "stream",
     "text": [
      "The slowest run took 6.12 times longer than the fastest. This could mean that an intermediate result is being cached.\n",
      "1000000 loops, best of 3: 1.45 µs per loop\n"
     ]
    },
    {
     "data": {
      "text/plain": [
       "<TimeitResult : 1000000 loops, best of 3: 1.45 µs per loop>"
      ]
     },
     "execution_count": 68,
     "metadata": {},
     "output_type": "execute_result"
    }
   ],
   "source": [
    "x = np.array([0, 0, 10, 11])\n",
    "%timeit -o task4.max_before_zero(x)"
   ]
  },
  {
   "cell_type": "code",
   "execution_count": 67,
   "metadata": {
    "collapsed": false
   },
   "outputs": [
    {
     "name": "stdout",
     "output_type": "stream",
     "text": [
      "The slowest run took 12.23 times longer than the fastest. This could mean that an intermediate result is being cached.\n",
      "100000 loops, best of 3: 3.98 µs per loop\n"
     ]
    },
    {
     "data": {
      "text/plain": [
       "<TimeitResult : 100000 loops, best of 3: 3.98 µs per loop>"
      ]
     },
     "execution_count": 67,
     "metadata": {},
     "output_type": "execute_result"
    }
   ],
   "source": [
    "x = np.array([0, 0, 10, 11])\n",
    "%timeit -o task4.max_before_zero_np(x)"
   ]
  },
  {
   "cell_type": "code",
   "execution_count": 69,
   "metadata": {
    "collapsed": false
   },
   "outputs": [
    {
     "name": "stdout",
     "output_type": "stream",
     "text": [
      "The slowest run took 18.68 times longer than the fastest. This could mean that an intermediate result is being cached.\n",
      "100000 loops, best of 3: 14.3 µs per loop\n"
     ]
    },
    {
     "data": {
      "text/plain": [
       "<TimeitResult : 100000 loops, best of 3: 14.3 µs per loop>"
      ]
     },
     "execution_count": 69,
     "metadata": {},
     "output_type": "execute_result"
    }
   ],
   "source": [
    "img = np.array([[[131, 177, 78, 255], [125, 175, 74, 255]],\n",
    "                [[129, 175, 79, 255], [123, 173, 74, 255]]])\n",
    "%timeit -o task5.make_gray(img)"
   ]
  },
  {
   "cell_type": "code",
   "execution_count": 70,
   "metadata": {
    "collapsed": false
   },
   "outputs": [
    {
     "name": "stdout",
     "output_type": "stream",
     "text": [
      "The slowest run took 56.72 times longer than the fastest. This could mean that an intermediate result is being cached.\n",
      "100000 loops, best of 3: 3.59 µs per loop\n"
     ]
    },
    {
     "data": {
      "text/plain": [
       "<TimeitResult : 100000 loops, best of 3: 3.59 µs per loop>"
      ]
     },
     "execution_count": 70,
     "metadata": {},
     "output_type": "execute_result"
    }
   ],
   "source": [
    "img = np.array([[[131, 177, 78, 255], [125, 175, 74, 255]],\n",
    "                [[129, 175, 79, 255], [123, 173, 74, 255]]])\n",
    "%timeit -o task5.make_gray_np(img)"
   ]
  },
  {
   "cell_type": "code",
   "execution_count": 71,
   "metadata": {
    "collapsed": false
   },
   "outputs": [
    {
     "name": "stdout",
     "output_type": "stream",
     "text": [
      "The slowest run took 4.27 times longer than the fastest. This could mean that an intermediate result is being cached.\n",
      "10000 loops, best of 3: 28.2 µs per loop\n"
     ]
    },
    {
     "data": {
      "text/plain": [
       "<TimeitResult : 10000 loops, best of 3: 28.2 µs per loop>"
      ]
     },
     "execution_count": 71,
     "metadata": {},
     "output_type": "execute_result"
    }
   ],
   "source": [
    "x = np.array([2, 2, 2, 3, 3, 3, 5])\n",
    "%timeit -o task6.run_length(x)"
   ]
  },
  {
   "cell_type": "code",
   "execution_count": 72,
   "metadata": {
    "collapsed": false
   },
   "outputs": [
    {
     "name": "stdout",
     "output_type": "stream",
     "text": [
      "The slowest run took 7.68 times longer than the fastest. This could mean that an intermediate result is being cached.\n",
      "100000 loops, best of 3: 6.58 µs per loop\n"
     ]
    },
    {
     "data": {
      "text/plain": [
       "<TimeitResult : 100000 loops, best of 3: 6.58 µs per loop>"
      ]
     },
     "execution_count": 72,
     "metadata": {},
     "output_type": "execute_result"
    }
   ],
   "source": [
    "x = np.array([2, 2, 2, 3, 3, 3, 5])\n",
    "%timeit -o task6.run_length_np(x)"
   ]
  },
  {
   "cell_type": "code",
   "execution_count": 73,
   "metadata": {
    "collapsed": false
   },
   "outputs": [
    {
     "name": "stdout",
     "output_type": "stream",
     "text": [
      "The slowest run took 4.82 times longer than the fastest. This could mean that an intermediate result is being cached.\n",
      "100000 loops, best of 3: 13.4 µs per loop\n"
     ]
    },
    {
     "data": {
      "text/plain": [
       "<TimeitResult : 100000 loops, best of 3: 13.4 µs per loop>"
      ]
     },
     "execution_count": 73,
     "metadata": {},
     "output_type": "execute_result"
    }
   ],
   "source": [
    "x = np.array([1, 1, 1, 1, 1])\n",
    "%timeit -o task6.run_length(x)"
   ]
  },
  {
   "cell_type": "code",
   "execution_count": 74,
   "metadata": {
    "collapsed": false
   },
   "outputs": [
    {
     "name": "stdout",
     "output_type": "stream",
     "text": [
      "The slowest run took 8.41 times longer than the fastest. This could mean that an intermediate result is being cached.\n",
      "100000 loops, best of 3: 6.6 µs per loop\n"
     ]
    },
    {
     "data": {
      "text/plain": [
       "<TimeitResult : 100000 loops, best of 3: 6.6 µs per loop>"
      ]
     },
     "execution_count": 74,
     "metadata": {},
     "output_type": "execute_result"
    }
   ],
   "source": [
    "x = np.array([1, 1, 1, 1, 1])\n",
    "%timeit -o task6.run_length_np(x)"
   ]
  },
  {
   "cell_type": "code",
   "execution_count": 75,
   "metadata": {
    "collapsed": false
   },
   "outputs": [
    {
     "name": "stdout",
     "output_type": "stream",
     "text": [
      "The slowest run took 9.60 times longer than the fastest. This could mean that an intermediate result is being cached.\n",
      "10000 loops, best of 3: 42.9 µs per loop\n"
     ]
    },
    {
     "data": {
      "text/plain": [
       "<TimeitResult : 10000 loops, best of 3: 42.9 µs per loop>"
      ]
     },
     "execution_count": 75,
     "metadata": {},
     "output_type": "execute_result"
    }
   ],
   "source": [
    "x = np.array([1, 2, 3, 4, 5])\n",
    "%timeit -o task6.run_length(x)"
   ]
  },
  {
   "cell_type": "code",
   "execution_count": 76,
   "metadata": {
    "collapsed": false
   },
   "outputs": [
    {
     "name": "stdout",
     "output_type": "stream",
     "text": [
      "The slowest run took 8.55 times longer than the fastest. This could mean that an intermediate result is being cached.\n",
      "100000 loops, best of 3: 6.59 µs per loop\n"
     ]
    },
    {
     "data": {
      "text/plain": [
       "<TimeitResult : 100000 loops, best of 3: 6.59 µs per loop>"
      ]
     },
     "execution_count": 76,
     "metadata": {},
     "output_type": "execute_result"
    }
   ],
   "source": [
    "x = np.array([1, 2, 3, 4, 5])\n",
    "%timeit -o task6.run_length_np(x)"
   ]
  }
 ],
 "metadata": {
  "kernelspec": {
   "display_name": "Python 3",
   "language": "python",
   "name": "python3"
  },
  "language_info": {
   "codemirror_mode": {
    "name": "ipython",
    "version": 3
   },
   "file_extension": ".py",
   "mimetype": "text/x-python",
   "name": "python",
   "nbconvert_exporter": "python",
   "pygments_lexer": "ipython3",
   "version": "3.5.2"
  }
 },
 "nbformat": 4,
 "nbformat_minor": 1
}
